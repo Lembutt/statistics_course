{
 "cells": [
  {
   "cell_type": "code",
   "execution_count": 108,
   "id": "9a035f30-d783-48a5-89f9-395754b17148",
   "metadata": {},
   "outputs": [
    {
     "data": {
      "text/html": [
       "<div>\n",
       "<style scoped>\n",
       "    .dataframe tbody tr th:only-of-type {\n",
       "        vertical-align: middle;\n",
       "    }\n",
       "\n",
       "    .dataframe tbody tr th {\n",
       "        vertical-align: top;\n",
       "    }\n",
       "\n",
       "    .dataframe thead th {\n",
       "        text-align: right;\n",
       "    }\n",
       "</style>\n",
       "<table border=\"1\" class=\"dataframe\">\n",
       "  <thead>\n",
       "    <tr style=\"text-align: right;\">\n",
       "      <th></th>\n",
       "      <th>&lt;DATE&gt;</th>\n",
       "      <th>&lt;TIME&gt;</th>\n",
       "      <th>&lt;OPEN&gt;</th>\n",
       "      <th>&lt;HIGH&gt;</th>\n",
       "      <th>&lt;LOW&gt;</th>\n",
       "      <th>&lt;CLOSE&gt;</th>\n",
       "      <th>&lt;VOL&gt;</th>\n",
       "      <th>&lt;AVG&gt;</th>\n",
       "      <th>&lt;TOTAL&gt;</th>\n",
       "    </tr>\n",
       "  </thead>\n",
       "  <tbody>\n",
       "    <tr>\n",
       "      <th>0</th>\n",
       "      <td>2020-09-01</td>\n",
       "      <td>10:00:00</td>\n",
       "      <td>107933</td>\n",
       "      <td>114984</td>\n",
       "      <td>107933</td>\n",
       "      <td>109653</td>\n",
       "      <td>76</td>\n",
       "      <td>110125.75</td>\n",
       "      <td>8369557.00</td>\n",
       "    </tr>\n",
       "    <tr>\n",
       "      <th>1</th>\n",
       "      <td>2020-09-01</td>\n",
       "      <td>10:01:00</td>\n",
       "      <td>113893</td>\n",
       "      <td>115033</td>\n",
       "      <td>108260</td>\n",
       "      <td>110409</td>\n",
       "      <td>22</td>\n",
       "      <td>111898.75</td>\n",
       "      <td>2461772.50</td>\n",
       "    </tr>\n",
       "    <tr>\n",
       "      <th>2</th>\n",
       "      <td>2020-09-01</td>\n",
       "      <td>10:02:00</td>\n",
       "      <td>110410</td>\n",
       "      <td>115232</td>\n",
       "      <td>107957</td>\n",
       "      <td>115218</td>\n",
       "      <td>94</td>\n",
       "      <td>112204.25</td>\n",
       "      <td>10547199.50</td>\n",
       "    </tr>\n",
       "    <tr>\n",
       "      <th>3</th>\n",
       "      <td>2020-09-01</td>\n",
       "      <td>10:03:00</td>\n",
       "      <td>113598</td>\n",
       "      <td>115291</td>\n",
       "      <td>108048</td>\n",
       "      <td>109899</td>\n",
       "      <td>73</td>\n",
       "      <td>111709.00</td>\n",
       "      <td>8154757.00</td>\n",
       "    </tr>\n",
       "    <tr>\n",
       "      <th>4</th>\n",
       "      <td>2020-09-01</td>\n",
       "      <td>10:04:00</td>\n",
       "      <td>110591</td>\n",
       "      <td>115233</td>\n",
       "      <td>108021</td>\n",
       "      <td>110062</td>\n",
       "      <td>81</td>\n",
       "      <td>110976.75</td>\n",
       "      <td>8989116.75</td>\n",
       "    </tr>\n",
       "    <tr>\n",
       "      <th>...</th>\n",
       "      <td>...</td>\n",
       "      <td>...</td>\n",
       "      <td>...</td>\n",
       "      <td>...</td>\n",
       "      <td>...</td>\n",
       "      <td>...</td>\n",
       "      <td>...</td>\n",
       "      <td>...</td>\n",
       "      <td>...</td>\n",
       "    </tr>\n",
       "    <tr>\n",
       "      <th>51721</th>\n",
       "      <td>2020-12-30</td>\n",
       "      <td>19:56:00</td>\n",
       "      <td>110783</td>\n",
       "      <td>115280</td>\n",
       "      <td>107964</td>\n",
       "      <td>108332</td>\n",
       "      <td>95</td>\n",
       "      <td>110589.75</td>\n",
       "      <td>10506026.25</td>\n",
       "    </tr>\n",
       "    <tr>\n",
       "      <th>51722</th>\n",
       "      <td>2020-12-30</td>\n",
       "      <td>19:57:00</td>\n",
       "      <td>110982</td>\n",
       "      <td>115230</td>\n",
       "      <td>107947</td>\n",
       "      <td>113481</td>\n",
       "      <td>92</td>\n",
       "      <td>111910.00</td>\n",
       "      <td>10295720.00</td>\n",
       "    </tr>\n",
       "    <tr>\n",
       "      <th>51723</th>\n",
       "      <td>2020-12-30</td>\n",
       "      <td>19:58:00</td>\n",
       "      <td>108319</td>\n",
       "      <td>115217</td>\n",
       "      <td>107935</td>\n",
       "      <td>108960</td>\n",
       "      <td>84</td>\n",
       "      <td>110107.75</td>\n",
       "      <td>9249051.00</td>\n",
       "    </tr>\n",
       "    <tr>\n",
       "      <th>51724</th>\n",
       "      <td>2020-12-30</td>\n",
       "      <td>19:59:00</td>\n",
       "      <td>108107</td>\n",
       "      <td>115249</td>\n",
       "      <td>108013</td>\n",
       "      <td>110556</td>\n",
       "      <td>44</td>\n",
       "      <td>110481.25</td>\n",
       "      <td>4861175.00</td>\n",
       "    </tr>\n",
       "    <tr>\n",
       "      <th>51725</th>\n",
       "      <td>2020-12-30</td>\n",
       "      <td>20:00:00</td>\n",
       "      <td>111840</td>\n",
       "      <td>114871</td>\n",
       "      <td>108007</td>\n",
       "      <td>110110</td>\n",
       "      <td>80</td>\n",
       "      <td>111207.00</td>\n",
       "      <td>8896560.00</td>\n",
       "    </tr>\n",
       "  </tbody>\n",
       "</table>\n",
       "<p>51726 rows × 9 columns</p>\n",
       "</div>"
      ],
      "text/plain": [
       "          <DATE>    <TIME>  <OPEN>  <HIGH>   <LOW>  <CLOSE>  <VOL>      <AVG>  \\\n",
       "0     2020-09-01  10:00:00  107933  114984  107933   109653     76  110125.75   \n",
       "1     2020-09-01  10:01:00  113893  115033  108260   110409     22  111898.75   \n",
       "2     2020-09-01  10:02:00  110410  115232  107957   115218     94  112204.25   \n",
       "3     2020-09-01  10:03:00  113598  115291  108048   109899     73  111709.00   \n",
       "4     2020-09-01  10:04:00  110591  115233  108021   110062     81  110976.75   \n",
       "...          ...       ...     ...     ...     ...      ...    ...        ...   \n",
       "51721 2020-12-30  19:56:00  110783  115280  107964   108332     95  110589.75   \n",
       "51722 2020-12-30  19:57:00  110982  115230  107947   113481     92  111910.00   \n",
       "51723 2020-12-30  19:58:00  108319  115217  107935   108960     84  110107.75   \n",
       "51724 2020-12-30  19:59:00  108107  115249  108013   110556     44  110481.25   \n",
       "51725 2020-12-30  20:00:00  111840  114871  108007   110110     80  111207.00   \n",
       "\n",
       "           <TOTAL>  \n",
       "0       8369557.00  \n",
       "1       2461772.50  \n",
       "2      10547199.50  \n",
       "3       8154757.00  \n",
       "4       8989116.75  \n",
       "...            ...  \n",
       "51721  10506026.25  \n",
       "51722  10295720.00  \n",
       "51723   9249051.00  \n",
       "51724   4861175.00  \n",
       "51725   8896560.00  \n",
       "\n",
       "[51726 rows x 9 columns]"
      ]
     },
     "execution_count": 108,
     "metadata": {},
     "output_type": "execute_result"
    }
   ],
   "source": [
    "import pandas as pd\n",
    "\n",
    "df = pd.read_csv('data/ex2-1.csv')\n",
    "df['<AVG>'] = (df['<OPEN>'] + df['<HIGH>'] + df['<LOW>'] + df['<CLOSE>']) / 4\n",
    "df['<TOTAL>'] = df['<AVG>'] * df['<VOL>']\n",
    "\n",
    "df['<DATE>'] = pd.to_datetime(df['<DATE>'], format='%d.%m.%Y')\n",
    "\n",
    "df.has_nulls = df.isnull().values.any()\n",
    "\n",
    "if df.has_nulls:\n",
    "    raise Exception('There are nulls')\n",
    "\n",
    "df"
   ]
  },
  {
   "cell_type": "code",
   "execution_count": 109,
   "id": "dd9227f4-4317-4864-b85a-9ec85eefa97d",
   "metadata": {},
   "outputs": [
    {
     "data": {
      "text/plain": [
       "111403.25"
      ]
     },
     "execution_count": 109,
     "metadata": {},
     "output_type": "execute_result"
    }
   ],
   "source": [
    "'''\n",
    "1) For each minute interval calculate the average PRICE by averaging the opening <OPEN>, closing <CLOSE>, minimum <LOW> and maximum <HIGH> prices.\n",
    "Find the average price on 22.10.2020 at 19:40:00.\n",
    "'''\n",
    "\n",
    "df['<AVG>'].loc[(df['<DATE>'] == '22.10.2020') & (df['<TIME>'] == '19:40:00')].sum()"
   ]
  },
  {
   "cell_type": "code",
   "execution_count": 110,
   "id": "a0cd76c5-656c-4f61-ac27-22eab4be9007",
   "metadata": {},
   "outputs": [
    {
     "data": {
      "text/plain": [
       "9329926.25"
      ]
     },
     "execution_count": 110,
     "metadata": {},
     "output_type": "execute_result"
    }
   ],
   "source": [
    "'''\n",
    "2) For each minute interval calculate the TOTAL turnover for the completed trades by multiplying the average PRICE by the volume<VOL>.\n",
    "Find the turnover on 25.09.2020 at 14:01:00.\n",
    "'''\n",
    "\n",
    "df['<TOTAL>'].loc[(df['<DATE>'] == '25.09.2020') & (df['<TIME>'] == '14:01:00')].sum()"
   ]
  },
  {
   "cell_type": "code",
   "execution_count": 111,
   "id": "e34abd98-4632-4a78-9e1d-e8b3ba4c382c",
   "metadata": {},
   "outputs": [
    {
     "data": {
      "text/plain": [
       "3240508872.0"
      ]
     },
     "execution_count": 111,
     "metadata": {},
     "output_type": "execute_result"
    }
   ],
   "source": [
    "'''\n",
    "Find the total turnover for all closed trades on 20.11.2020.\n",
    "'''\n",
    "\n",
    "df['<TOTAL>'].loc[(df['<DATE>'] == '20.11.2020')].sum()"
   ]
  },
  {
   "cell_type": "code",
   "execution_count": 112,
   "id": "c824561b-7489-484e-9766-01af22c63b71",
   "metadata": {},
   "outputs": [
    {
     "data": {
      "text/plain": [
       "286"
      ]
     },
     "execution_count": 112,
     "metadata": {},
     "output_type": "execute_result"
    }
   ],
   "source": [
    "'''\n",
    "Calculate the number of minute intervals on 18.09.2020, when the opening price was strictly greater than the closing price.\n",
    "'''\n",
    "\n",
    "len(df.loc[(df['<DATE>'] == '18.09.2020') & (df['<OPEN>'] > df['<CLOSE>'])])"
   ]
  },
  {
   "cell_type": "code",
   "execution_count": 113,
   "id": "1f0577b9-2907-4286-a405-3e82eb40e097",
   "metadata": {},
   "outputs": [
    {
     "data": {
      "text/plain": [
       "16384128739.5"
      ]
     },
     "execution_count": 113,
     "metadata": {},
     "output_type": "execute_result"
    }
   ],
   "source": [
    "'''\n",
    "Find the total turnover for all trades on Thursdays of October.\n",
    "'''\n",
    "df['<TOTAL>'].loc[(df['<DATE>'].dt.month == 10) & (df['<DATE>'].dt.dayofweek == 3)].sum()"
   ]
  }
 ],
 "metadata": {
  "kernelspec": {
   "display_name": "Python 3 (ipykernel)",
   "language": "python",
   "name": "python3"
  },
  "language_info": {
   "codemirror_mode": {
    "name": "ipython",
    "version": 3
   },
   "file_extension": ".py",
   "mimetype": "text/x-python",
   "name": "python",
   "nbconvert_exporter": "python",
   "pygments_lexer": "ipython3",
   "version": "3.10.1"
  }
 },
 "nbformat": 4,
 "nbformat_minor": 5
}
