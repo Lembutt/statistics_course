{
 "cells": [
  {
   "cell_type": "code",
   "execution_count": 8,
   "id": "7aa9d83d-1c78-4638-b28a-d8c0a86f2873",
   "metadata": {},
   "outputs": [
    {
     "data": {
      "text/html": [
       "<div>\n",
       "<style scoped>\n",
       "    .dataframe tbody tr th:only-of-type {\n",
       "        vertical-align: middle;\n",
       "    }\n",
       "\n",
       "    .dataframe tbody tr th {\n",
       "        vertical-align: top;\n",
       "    }\n",
       "\n",
       "    .dataframe thead th {\n",
       "        text-align: right;\n",
       "    }\n",
       "</style>\n",
       "<table border=\"1\" class=\"dataframe\">\n",
       "  <thead>\n",
       "    <tr style=\"text-align: right;\">\n",
       "      <th></th>\n",
       "      <th>y</th>\n",
       "    </tr>\n",
       "  </thead>\n",
       "  <tbody>\n",
       "    <tr>\n",
       "      <th>0</th>\n",
       "      <td>5</td>\n",
       "    </tr>\n",
       "    <tr>\n",
       "      <th>1</th>\n",
       "      <td>15</td>\n",
       "    </tr>\n",
       "    <tr>\n",
       "      <th>2</th>\n",
       "      <td>33</td>\n",
       "    </tr>\n",
       "    <tr>\n",
       "      <th>3</th>\n",
       "      <td>21</td>\n",
       "    </tr>\n",
       "    <tr>\n",
       "      <th>4</th>\n",
       "      <td>34</td>\n",
       "    </tr>\n",
       "    <tr>\n",
       "      <th>...</th>\n",
       "      <td>...</td>\n",
       "    </tr>\n",
       "    <tr>\n",
       "      <th>95</th>\n",
       "      <td>310</td>\n",
       "    </tr>\n",
       "    <tr>\n",
       "      <th>96</th>\n",
       "      <td>297</td>\n",
       "    </tr>\n",
       "    <tr>\n",
       "      <th>97</th>\n",
       "      <td>308</td>\n",
       "    </tr>\n",
       "    <tr>\n",
       "      <th>98</th>\n",
       "      <td>300</td>\n",
       "    </tr>\n",
       "    <tr>\n",
       "      <th>99</th>\n",
       "      <td>320</td>\n",
       "    </tr>\n",
       "  </tbody>\n",
       "</table>\n",
       "<p>100 rows × 1 columns</p>\n",
       "</div>"
      ],
      "text/plain": [
       "      y\n",
       "0     5\n",
       "1    15\n",
       "2    33\n",
       "3    21\n",
       "4    34\n",
       "..  ...\n",
       "95  310\n",
       "96  297\n",
       "97  308\n",
       "98  300\n",
       "99  320\n",
       "\n",
       "[100 rows x 1 columns]"
      ]
     },
     "execution_count": 8,
     "metadata": {},
     "output_type": "execute_result"
    }
   ],
   "source": [
    "import pandas as pd\n",
    "\n",
    "df = pd.read_csv('data/ex-3-2.csv')\n",
    "df"
   ]
  },
  {
   "cell_type": "code",
   "execution_count": 9,
   "id": "999191ac-4df2-44fa-9eb1-b8914dfc5246",
   "metadata": {},
   "outputs": [
    {
     "data": {
      "text/plain": [
       "<AxesSubplot:>"
      ]
     },
     "execution_count": 9,
     "metadata": {},
     "output_type": "execute_result"
    },
    {
     "data": {
      "image/png": "[encoded data removed]",
      "text/plain": [
       "<Figure size 432x288 with 1 Axes>"
      ]
     },
     "metadata": {
      "needs_background": "light"
     },
     "output_type": "display_data"
    }
   ],
   "source": [
    "df.plot()"
   ]
  },
  {
   "cell_type": "code",
   "execution_count": 20,
   "id": "44a23b83-8cff-473d-8946-7e29edd16217",
   "metadata": {},
   "outputs": [
    {
     "name": "stdout",
     "output_type": "stream",
     "text": [
      "point 15:  52.38\n",
      "point 100:  301.79\n"
     ]
    }
   ],
   "source": [
    "'''\n",
    "The time series is noisy. Make the exponential smoothing of the time series with a smoothing coefficient 0.21.\n",
    "Enter the smoothed value for the 15-th point of the time series (the numbering starts from 1):\n",
    "'''\n",
    "def EMA(df: pd.DataFrame, alpha: float):\n",
    "    if alpha > 1 or alpha < 0:\n",
    "        raise ValueError('0 <= alpha <= 1')\n",
    "    l = [df.iloc[0].y]\n",
    "    for i in range(1, len(df)):\n",
    "        l.append(\n",
    "            alpha * df.iloc[i].y + (1 - alpha) * l[i-1] \n",
    "        )\n",
    "    df['y_EMA'] = l\n",
    "    return df\n",
    "\n",
    "def EMA_point(df: pd.DataFrame, alpha: float, element_num: int):\n",
    "    if alpha > 1 or alpha < 0:\n",
    "        raise ValueError('0 <= alpha <= 1')\n",
    "    l = [df.iloc[0].y]\n",
    "    for i in range(1, element_num):\n",
    "        l.append(\n",
    "            alpha * df.iloc[i].y + (1 - alpha) * l[i-1] \n",
    "        )\n",
    "    return round(l[element_num - 1], 2)\n",
    "\n",
    "print('point 15: ', EMA_point(df, 0.21, 15))\n",
    "print('point 100: ', EMA_point(df, 0.21, 100))"
   ]
  },
  {
   "cell_type": "code",
   "execution_count": 18,
   "id": "6c47ab98-5db4-49ff-bf7d-4d769af1ca27",
   "metadata": {},
   "outputs": [
    {
     "data": {
      "text/plain": [
       "<AxesSubplot:>"
      ]
     },
     "execution_count": 18,
     "metadata": {},
     "output_type": "execute_result"
    },
    {
     "data": {
      "image/png": "[encoded data removed]",
      "text/plain": [
       "<Figure size 432x288 with 1 Axes>"
      ]
     },
     "metadata": {
      "needs_background": "light"
     },
     "output_type": "display_data"
    }
   ],
   "source": [
    "EMA(df, 0.21).plot()"
   ]
  },
  {
   "cell_type": "code",
   "execution_count": 30,
   "id": "ac0561f0-eabf-4c3e-82ae-567802ef34b1",
   "metadata": {},
   "outputs": [],
   "source": [
    "'''\n",
    "Make a linear trend for the input time series Y. Evaluate how well the linear trend approximates the values of the time series.\n",
    "Find the coefficient a of the linear trend, specified by the equation y = ax + b:\n",
    "'''\n",
    "n = len(df)\n",
    "a = (n * sum([(df.index[i] + 1) * df.iloc[i].y for i in range(1, n)]) - sum([(df.index[i] + 1) for i in range(1, n)]) * sum([df.iloc[i].y for i in range(1, n)])) / (n * sum([(df.index[i] + 1)**2 for i in range(1, n)]) - sum([(df.index[i] + 1) for i in range(1, n)])**2)\n",
    "b = (sum([df.iloc[i].y for i in range(1, n)]) - a * sum([(df.index[i] + 1) for i in range(1, n)])) / n\n",
    "df['y_trend'] = a*(df.index+1)+b"
   ]
  },
  {
   "cell_type": "code",
   "execution_count": 31,
   "id": "6312d0a2-0caf-4400-94ee-f208b10a4831",
   "metadata": {},
   "outputs": [
    {
     "data": {
      "text/plain": [
       "<AxesSubplot:>"
      ]
     },
     "execution_count": 31,
     "metadata": {},
     "output_type": "execute_result"
    },
    {
     "data": {
      "image/png": "[encoded data removed]",
      "text/plain": [
       "<Figure size 432x288 with 1 Axes>"
      ]
     },
     "metadata": {
      "needs_background": "light"
     },
     "output_type": "display_data"
    }
   ],
   "source": [
    "df.plot()"
   ]
  },
  {
   "cell_type": "code",
   "execution_count": 32,
   "id": "883ffdea-c5a8-43d8-b0cd-2b562a0bdfb4",
   "metadata": {},
   "outputs": [
    {
     "data": {
      "text/plain": [
       "0.9891082180327396"
      ]
     },
     "execution_count": 32,
     "metadata": {},
     "output_type": "execute_result"
    }
   ],
   "source": [
    "R2 = 1 - (sum([(df.iloc[i].y - df.iloc[i].y_trend)**2 for i in range(1, n)]))/(sum([(df.iloc[i].y - df.y.mean())**2for i in range(1, n)]))\n",
    "R2"
   ]
  },
  {
   "cell_type": "code",
   "execution_count": 33,
   "id": "0e9581cc-9afd-44d7-a524-1664b21c75f2",
   "metadata": {},
   "outputs": [
    {
     "data": {
      "text/plain": [
       "2.9744514203717616"
      ]
     },
     "execution_count": 33,
     "metadata": {},
     "output_type": "execute_result"
    }
   ],
   "source": [
    "a"
   ]
  },
  {
   "cell_type": "code",
   "execution_count": 34,
   "id": "9567d4d2-697b-4339-9885-4000a41e1dd6",
   "metadata": {},
   "outputs": [],
   "source": [
    "y101=a*101 + b"
   ]
  },
  {
   "cell_type": "code",
   "execution_count": 35,
   "id": "86ff7eb5-09cf-4a53-ad7a-48c308ec3610",
   "metadata": {},
   "outputs": [
    {
     "data": {
      "text/plain": [
       "315.81954124297766"
      ]
     },
     "execution_count": 35,
     "metadata": {},
     "output_type": "execute_result"
    }
   ],
   "source": [
    "y101"
   ]
  },
  {
   "cell_type": "code",
   "execution_count": null,
   "id": "4db642e5-358c-404b-8af3-9e8a12d39f18",
   "metadata": {},
   "outputs": [],
   "source": []
  }
 ],
 "metadata": {
  "kernelspec": {
   "display_name": "Python 3 (ipykernel)",
   "language": "python",
   "name": "python3"
  },
  "language_info": {
   "codemirror_mode": {
    "name": "ipython",
    "version": 3
   },
   "file_extension": ".py",
   "mimetype": "text/x-python",
   "name": "python",
   "nbconvert_exporter": "python",
   "pygments_lexer": "ipython3",
   "version": "3.10.1"
  }
 },
 "nbformat": 4,
 "nbformat_minor": 5
}
