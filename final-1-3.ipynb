{
 "cells": [
  {
   "cell_type": "code",
   "execution_count": 4,
   "id": "561de205-2c33-41c9-a30c-074cd8381afd",
   "metadata": {},
   "outputs": [],
   "source": [
    "l =  [41, 48, 53, 40, 51, 50, 39, 38, 47, 55, 46, 52, 49, 61, 64, 54, 67, 65, 63, 70, 62, 58, 72, 74, 57]"
   ]
  },
  {
   "cell_type": "code",
   "execution_count": 7,
   "id": "9818bd7a-7558-4f7d-bdb8-03986ee77c3f",
   "metadata": {},
   "outputs": [],
   "source": [
    "n = len(l)\n",
    "a = (n * sum([(i + 1)*l[i] for i in range(n)]) - sum([i+1 for i in range(n)])*sum([l[i] for i in range(n)])) / (n * sum([(i+1)**2 for i in range(n)]) - sum([i+1 for i in range(n)])**2)\n",
    "b = (sum([l[i] for i in range(n)]) - a*sum([i+1 for i in range(n)]))/n"
   ]
  },
  {
   "cell_type": "code",
   "execution_count": 8,
   "id": "651d78f5-383e-4eaa-a3e2-d97824a1d3b3",
   "metadata": {},
   "outputs": [
    {
     "data": {
      "text/plain": [
       "1.1223076923076922"
      ]
     },
     "execution_count": 8,
     "metadata": {},
     "output_type": "execute_result"
    }
   ],
   "source": [
    "a"
   ]
  },
  {
   "cell_type": "code",
   "execution_count": 15,
   "id": "be1fa7d4-907c-4248-b9e3-d37ce41fe56c",
   "metadata": {},
   "outputs": [],
   "source": [
    "R2 = 1 - (sum([(l[i] - (a*l[i] + b)) for i in range(n)])**2) / (sum([(l[i] - sum(l)/n) for i in range(n)])**2)"
   ]
  },
  {
   "cell_type": "code",
   "execution_count": 16,
   "id": "14476092-4905-4971-ab38-187337d390ce",
   "metadata": {},
   "outputs": [
    {
     "data": {
      "text/plain": [
       "-1.63065542268106e+32"
      ]
     },
     "execution_count": 16,
     "metadata": {},
     "output_type": "execute_result"
    }
   ],
   "source": [
    "R2"
   ]
  },
  {
   "cell_type": "code",
   "execution_count": null,
   "id": "7819230f-35d1-4202-b5e6-c49595734c74",
   "metadata": {},
   "outputs": [],
   "source": []
  }
 ],
 "metadata": {
  "kernelspec": {
   "display_name": "Python 3 (ipykernel)",
   "language": "python",
   "name": "python3"
  },
  "language_info": {
   "codemirror_mode": {
    "name": "ipython",
    "version": 3
   },
   "file_extension": ".py",
   "mimetype": "text/x-python",
   "name": "python",
   "nbconvert_exporter": "python",
   "pygments_lexer": "ipython3",
   "version": "3.10.1"
  }
 },
 "nbformat": 4,
 "nbformat_minor": 5
}
